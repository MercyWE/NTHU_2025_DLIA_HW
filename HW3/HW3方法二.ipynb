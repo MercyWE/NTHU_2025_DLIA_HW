{
  "cells": [
    {
      "cell_type": "markdown",
      "metadata": {
        "id": "Li0bVCTuxc6n"
      },
      "source": [
        "<div align=\"center\">\n",
        "\n",
        "#### Lab 3\n",
        "\n",
        "# National Tsing Hua University\n",
        "\n",
        "#### Spring 2025\n",
        "\n",
        "#### 11320IEEM 513600\n",
        "\n",
        "#### Deep Learning and Industrial Applications\n",
        "    \n",
        "## Lab 3: Anomaly Detection in Industrial Applications\n",
        "\n",
        "</div>"
      ]
    },
    {
      "cell_type": "markdown",
      "metadata": {
        "id": "OlvflhYwCu8Q"
      },
      "source": [
        "### Introduction\n",
        "\n",
        "In today's industrial landscape, the ability to detect anomalies in manufacturing processes and products is critical for maintaining quality, efficiency, and safety. This lab focuses on leveraging deep learning techniques for anomaly detection in various industrial applications, using the MVTEC Anomaly Detection Dataset. By employing ImageNet-pretrained models available in torchvision, students will gain hands-on experience in classfying defects and irregularities across different types of industrial products.\n",
        "\n",
        "Throughout this lab, you'll be involved in the following key activities:\n",
        "- Explore and process the MVTec Anomaly Detection Dataset.\n",
        "- Apply ImageNet-pretrained models from [Torchvision](https://pytorch.org/vision/stable/models.html) to detect anomalies in industrial products.\n",
        "- Evaluate the performance of the models to understand their effectiveness in real-world industrial applications.\n",
        "\n",
        "### Objectives\n",
        "\n",
        "- Understand the principles of anomaly detection in the context of industrial applications.\n",
        "- Learn how to implement and utilize ImageNet-pretrained models for detecting anomalies.\n",
        "- Analyze and interpret the results of the anomaly detection models to assess their practicality in industrial settings.\n",
        "\n",
        "### Dataset\n",
        "\n",
        "The MVTec AD Dataset is a comprehensive collection of high-resolution images across different categories of industrial products, such as bottles, cables, and metal nuts, each with various types of defects. This dataset is pivotal for developing and benchmarking anomaly detection algorithms. You can download our lab's dataset [here](https://drive.google.com/file/d/19600hUOpx0hl78TdpdH0oyy-gGTk_F_o/view?usp=share_link). You can drop downloaded data and drop to colab, or you can put into yor google drive.\n",
        "\n",
        "### References\n",
        "- [MVTec AD Dataset](https://www.kaggle.com/datasets/ipythonx/mvtec-ad/data) for the dataset used in this lab.\n",
        "- [Torchvision Models](https://pytorch.org/vision/stable/models.html) for accessing ImageNet-pretrained models to be used in anomaly detection tasks.\n",
        "- [State-of-the-Art Anomaly Detection on MVTec AD](https://paperswithcode.com/sota/anomaly-detection-on-mvtec-ad) for insights into the latest benchmarks and methodologies in anomaly detection applied to the MVTec AD dataset.\n",
        "- [CVPR 2019: MVTec AD — A Comprehensive Real-World Dataset for Unsupervised Anomaly Detection] for the original paper of MVTec AD dataset."
      ]
    },
    {
      "cell_type": "code",
      "execution_count": 1,
      "metadata": {
        "id": "GuiEw1L0Cu8Q"
      },
      "outputs": [],
      "source": [
        "import glob\n",
        "import matplotlib.pyplot as plt\n",
        "import random\n",
        "from tqdm.auto import tqdm\n",
        "import cv2\n",
        "import numpy as np"
      ]
    },
    {
      "cell_type": "code",
      "execution_count": 2,
      "metadata": {
        "id": "qvLTTCGsCu8R",
        "colab": {
          "base_uri": "https://localhost:8080/"
        },
        "outputId": "ba3cd7b9-ee40-45d4-f320-f8e6c5397765"
      },
      "outputs": [
        {
          "output_type": "stream",
          "name": "stdout",
          "text": [
            "Mounted at /content/drive\n",
            "tar: drive/MyDrive/cable.tar.gz: Cannot open: No such file or directory\n",
            "tar: Error is not recoverable: exiting now\n"
          ]
        }
      ],
      "source": [
        "from google.colab import drive\n",
        "\n",
        "drive.mount('/content/drive')\n",
        "!tar -xvf drive/MyDrive/cable.tar.gz cable"
      ]
    },
    {
      "cell_type": "code",
      "source": [
        "#new\n",
        "import glob\n",
        "import cv2\n",
        "import numpy as np\n",
        "import torch\n",
        "import torch.nn as nn\n",
        "import torch.optim as optim\n",
        "from torch.utils.data import DataLoader, Dataset\n",
        "from torchvision import transforms\n",
        "from tqdm import tqdm\n",
        "\n",
        "# 讀取數據集（僅使用 good 類別來訓練 Autoencoder）\n",
        "data_paths = glob.glob('/content/drive/MyDrive/pill/pill/train/good/*.png')\n",
        "\n",
        "def load_images(paths, img_size=(224, 224)):\n",
        "    data = []\n",
        "    for img_path in tqdm(paths):\n",
        "        img = cv2.imread(img_path)\n",
        "        img = cv2.cvtColor(img, cv2.COLOR_BGR2RGB)\n",
        "        img = cv2.resize(img, img_size)  # 調整大小\n",
        "        img = img / 255.0  # 標準化\n",
        "        data.append(img)\n",
        "    return np.array(data, dtype=np.float32)\n",
        "\n",
        "# 載入圖片\n",
        "all_data = load_images(data_paths)\n",
        "print(f\"Dataset shape: {all_data.shape}\")\n",
        "import torchvision.transforms as transforms\n",
        "\n",
        "import torch\n",
        "from torch.utils.data import Dataset\n",
        "from torchvision import transforms\n",
        "from PIL import Image\n",
        "\n",
        "class ImageDataset(Dataset):\n",
        "    def __init__(self, images, augment=False):\n",
        "        self.images = images\n",
        "        self.augment = augment\n",
        "        self.transform = transforms.Compose([\n",
        "            transforms.ToPILImage(),  # 轉為 PIL 影像\n",
        "            transforms.RandomHorizontalFlip(p=0.5),  # 50% 機率水平翻轉\n",
        "            transforms.RandomRotation(degrees=15),  # 隨機旋轉 ±15 度\n",
        "            transforms.ColorJitter(brightness=0.2, contrast=0.2, saturation=0.2, hue=0.1),  # 亮度對比度變化\n",
        "            transforms.RandomResizedCrop(size=(224, 224), scale=(0.8, 1.0)),  # 隨機裁剪\n",
        "            transforms.ToTensor()  # 轉為 Tensor\n",
        "        ])\n",
        "        self.to_tensor = transforms.ToTensor()  # 基本轉換（無增強）\n",
        "\n",
        "    def __len__(self):\n",
        "        return len(self.images)\n",
        "\n",
        "    def __getitem__(self, idx):\n",
        "        img = self.images[idx]\n",
        "        if self.augment:\n",
        "            img = self.transform(img)\n",
        "        else:\n",
        "            img = self.to_tensor(img)\n",
        "        return img\n",
        "\n",
        "\n",
        "# 建立 DataLoader（訓練時使用資料增強）\n",
        "dataset = ImageDataset(all_data, augment=True)\n",
        "data_loader = DataLoader(dataset, batch_size=32, shuffle=True)"
      ],
      "metadata": {
        "colab": {
          "base_uri": "https://localhost:8080/"
        },
        "id": "SSMFXi8Zj2M8",
        "outputId": "7a05323f-5221-4271-8e6b-16b1b633cd4a"
      },
      "execution_count": 88,
      "outputs": [
        {
          "output_type": "stream",
          "name": "stderr",
          "text": [
            "100%|██████████| 267/267 [00:10<00:00, 25.54it/s]\n"
          ]
        },
        {
          "output_type": "stream",
          "name": "stdout",
          "text": [
            "Dataset shape: (267, 224, 224, 3)\n"
          ]
        }
      ]
    },
    {
      "cell_type": "code",
      "source": [
        "import torch\n",
        "import torch.nn as nn\n",
        "import torchvision.models as models\n",
        "\n",
        "\n",
        "class ResNetAutoencoder(nn.Module):\n",
        "    def __init__(self):\n",
        "        super(ResNetAutoencoder, self).__init__()\n",
        "\n",
        "        #  使用預訓練的 ResNet18 作為 Encoder\n",
        "        resnet = models.resnet50(weights=models.ResNet50_Weights.IMAGENET1K_V1)\n",
        "        self.encoder = nn.Sequential(*list(resnet.children())[:-2])  # 移除 avgpool 和 FC 層\n",
        "\n",
        "        #  Decoder\n",
        "        # Decoder：逐步恢復到 224x224\n",
        "        self.decoder = nn.Sequential(\n",
        "        nn.ConvTranspose2d(2048, 1024, kernel_size=3, stride=2, padding=1, output_padding=1), # 7x7 -> 14x14\n",
        "        nn.ReLU(),\n",
        "        nn.ConvTranspose2d(1024, 512, kernel_size=3, stride=2, padding=1, output_padding=1),  # 14x14 -> 28x28\n",
        "        nn.ReLU(),\n",
        "        nn.ConvTranspose2d(512, 256, kernel_size=3, stride=2, padding=1, output_padding=1),   # 28x28 -> 56x56\n",
        "        nn.ReLU(),\n",
        "        nn.ConvTranspose2d(256, 64, kernel_size=3, stride=2, padding=1, output_padding=1),    # 56x56 -> 112x112\n",
        "        nn.ReLU(),\n",
        "        nn.ConvTranspose2d(64, 3, kernel_size=3, stride=2, padding=1, output_padding=1),      # 112x112 -> 224x224\n",
        "        nn.Sigmoid()\n",
        "    )\n",
        "    def forward(self, x):\n",
        "        x = self.encoder(x)  # ResNet Encoder\n",
        "        x = self.decoder(x)  # CNN Decoder\n",
        "        return x\n",
        "\n",
        "\n",
        "\n",
        "# 設置模型、損失函數和優化器\n",
        "device = torch.device(\"cuda\" if torch.cuda.is_available() else \"cpu\")\n",
        "model = ResNetAutoencoder().to(device)\n",
        "criterion = nn.MSELoss()\n",
        "optimizer = optim.Adam(model.parameters(), lr=0.001)\n",
        "\n",
        "# 訓練 Autoencoder\n",
        "epochs = 25\n",
        "for epoch in range(epochs):\n",
        "    model.train()\n",
        "    train_loss = 0\n",
        "    for images in data_loader:\n",
        "        images = images.to(device)\n",
        "        outputs = model(images)\n",
        "        loss = criterion(outputs, images)\n",
        "        optimizer.zero_grad()\n",
        "        loss.backward()\n",
        "        optimizer.step()\n",
        "        train_loss += loss.item()\n",
        "    print(f\"Epoch [{epoch+1}/{epochs}], Loss: {train_loss/len(data_loader):.4f}\")\n",
        "\n",
        "# 儲存訓練好的模型\n",
        "torch.save(model.state_dict(), \"UNetAutoencoder.pth\")\n",
        "print(\"Autoencoder 訓練完成，模型已儲存。\")"
      ],
      "metadata": {
        "colab": {
          "base_uri": "https://localhost:8080/"
        },
        "id": "VPsLKbv5F3Da",
        "outputId": "8fee266e-aa53-41c0-a5a3-f6093cc29c19"
      },
      "execution_count": 89,
      "outputs": [
        {
          "output_type": "stream",
          "name": "stdout",
          "text": [
            "Epoch [1/25], Loss: 0.1077\n",
            "Epoch [2/25], Loss: 0.0368\n",
            "Epoch [3/25], Loss: 0.0236\n",
            "Epoch [4/25], Loss: 0.0189\n",
            "Epoch [5/25], Loss: 0.0114\n",
            "Epoch [6/25], Loss: 0.0069\n",
            "Epoch [7/25], Loss: 0.0051\n",
            "Epoch [8/25], Loss: 0.0048\n",
            "Epoch [9/25], Loss: 0.0046\n",
            "Epoch [10/25], Loss: 0.0048\n",
            "Epoch [11/25], Loss: 0.0048\n",
            "Epoch [12/25], Loss: 0.0050\n",
            "Epoch [13/25], Loss: 0.0047\n",
            "Epoch [14/25], Loss: 0.0042\n",
            "Epoch [15/25], Loss: 0.0042\n",
            "Epoch [16/25], Loss: 0.0042\n",
            "Epoch [17/25], Loss: 0.0043\n",
            "Epoch [18/25], Loss: 0.0041\n",
            "Epoch [19/25], Loss: 0.0040\n",
            "Epoch [20/25], Loss: 0.0040\n",
            "Epoch [21/25], Loss: 0.0040\n",
            "Epoch [22/25], Loss: 0.0039\n",
            "Epoch [23/25], Loss: 0.0038\n",
            "Epoch [24/25], Loss: 0.0038\n",
            "Epoch [25/25], Loss: 0.0033\n",
            "Autoencoder 訓練完成，模型已儲存。\n"
          ]
        }
      ]
    },
    {
      "cell_type": "code",
      "source": [
        "import glob\n",
        "import cv2\n",
        "import numpy as np\n",
        "import torch\n",
        "import torch.nn as nn\n",
        "from torch.utils.data import DataLoader, Dataset\n",
        "from torchvision import transforms\n",
        "from sklearn.metrics import roc_curve, roc_auc_score\n",
        "import matplotlib.pyplot as plt\n",
        "from tqdm import tqdm\n",
        "\n",
        "# ===== 自訂 Dataset 和影像載入函數 =====\n",
        "class ImageDataset(Dataset):\n",
        "    def __init__(self, images, augment=False):\n",
        "        self.images = images\n",
        "        self.augment = augment\n",
        "        self.transform = transforms.Compose([\n",
        "            transforms.ToPILImage(),\n",
        "            transforms.RandomHorizontalFlip(p=0.5),\n",
        "            transforms.RandomRotation(degrees=15),\n",
        "            transforms.ColorJitter(brightness=0.2, contrast=0.2, saturation=0.2, hue=0.1),\n",
        "            transforms.RandomResizedCrop(size=(224, 224), scale=(0.8, 1.0)),\n",
        "            transforms.ToTensor()\n",
        "        ])\n",
        "        self.to_tensor = transforms.ToTensor()\n",
        "\n",
        "    def __len__(self):\n",
        "        return len(self.images)\n",
        "\n",
        "    def __getitem__(self, idx):\n",
        "        img = self.images[idx]\n",
        "        if self.augment:\n",
        "            img = self.transform(img)\n",
        "        else:\n",
        "            img = self.to_tensor(img)\n",
        "        return img\n",
        "\n",
        "def load_images(paths, img_size=(224, 224)):\n",
        "    data = []\n",
        "    for img_path in tqdm(paths):\n",
        "        img = cv2.imread(img_path)\n",
        "        img = cv2.cvtColor(img, cv2.COLOR_BGR2RGB)\n",
        "        img = cv2.resize(img, img_size)\n",
        "        img = img / 255.0\n",
        "        data.append(img)\n",
        "    return np.array(data, dtype=np.float32)\n",
        "\n",
        "# ===== 測試資料路徑 =====\n",
        "test_good_paths = glob.glob('/content/drive/MyDrive/pill/pill/test/good/*.png')\n",
        "test_anomaly_paths = glob.glob('/content/drive/MyDrive/pill/pill/test/*/*.png')\n",
        "\n",
        "# 過濾異常樣本（排除 good）\n",
        "test_anomaly_paths = [p for p in test_anomaly_paths if \"good\" not in p]\n",
        "\n",
        "# ===== 載入測試圖片 =====\n",
        "test_good_images = load_images(test_good_paths)\n",
        "test_anomaly_images = load_images(test_anomaly_paths)\n",
        "\n",
        "test_good_dataset = ImageDataset(test_good_images, augment=False)\n",
        "test_anomaly_dataset = ImageDataset(test_anomaly_images, augment=False)\n",
        "\n",
        "test_good_loader = DataLoader(test_good_dataset, batch_size=16, shuffle=False)\n",
        "test_anomaly_loader = DataLoader(test_anomaly_dataset, batch_size=16, shuffle=False)\n",
        "\n",
        "# ===== 載入模型 =====\n",
        "class ResNetAutoencoder(nn.Module):\n",
        "    def __init__(self):\n",
        "        super(ResNetAutoencoder, self).__init__()\n",
        "        resnet = torch.hub.load('pytorch/vision', 'resnet50', pretrained=True)\n",
        "        self.encoder = nn.Sequential(*list(resnet.children())[:-2])  # 去掉 avgpool 和 fc 層\n",
        "\n",
        "        self.decoder = nn.Sequential(\n",
        "            nn.ConvTranspose2d(2048, 1024, 3, 2, 1, output_padding=1),\n",
        "            nn.ReLU(),\n",
        "            nn.ConvTranspose2d(1024, 512, 3, 2, 1, output_padding=1),\n",
        "            nn.ReLU(),\n",
        "            nn.ConvTranspose2d(512, 256, 3, 2, 1, output_padding=1),\n",
        "            nn.ReLU(),\n",
        "            nn.ConvTranspose2d(256, 64, 3, 2, 1, output_padding=1),\n",
        "            nn.ReLU(),\n",
        "            nn.ConvTranspose2d(64, 3, 3, 2, 1, output_padding=1),\n",
        "            nn.Sigmoid()\n",
        "        )\n",
        "\n",
        "    def forward(self, x):\n",
        "        x = self.encoder(x)\n",
        "        x = self.decoder(x)\n",
        "        return x\n",
        "\n",
        "device = torch.device(\"cuda\" if torch.cuda.is_available() else \"cpu\")\n",
        "model = ResNetAutoencoder().to(device)\n",
        "model.load_state_dict(torch.load(\"UNetAutoencoder.pth\", map_location=device))\n",
        "model.eval()\n",
        "\n",
        "# ===== 計算重建誤差 =====\n",
        "normal_errors = []\n",
        "anomaly_errors = []\n",
        "\n",
        "with torch.no_grad():\n",
        "    for img in test_good_loader:\n",
        "        img = img.to(device)\n",
        "        output = model(img)\n",
        "        mse = nn.functional.mse_loss(output, img, reduction='none')\n",
        "        mse = mse.view(mse.size(0), -1).mean(dim=1)\n",
        "        normal_errors.extend(mse.cpu().numpy())\n",
        "\n",
        "    for img in test_anomaly_loader:\n",
        "        img = img.to(device)\n",
        "        output = model(img)\n",
        "        mse = nn.functional.mse_loss(output, img, reduction='none')\n",
        "        mse = mse.view(mse.size(0), -1).mean(dim=1)\n",
        "        anomaly_errors.extend(mse.cpu().numpy())\n",
        "\n",
        "# ===== ROC 分析 =====\n",
        "y_true = [0] * len(normal_errors) + [1] * len(anomaly_errors)\n",
        "y_score = np.concatenate([normal_errors, anomaly_errors])\n",
        "\n",
        "fpr, tpr, thresholds = roc_curve(y_true, y_score)\n",
        "auc = roc_auc_score(y_true, y_score)\n",
        "print(f\"AUC: {auc:.4f}\")\n",
        "\n",
        "youden_index = tpr - fpr\n",
        "best_threshold = thresholds[np.argmax(youden_index)]\n",
        "print(f\"Best threshold by ROC = {best_threshold:.4f}\")\n",
        "\n",
        "# ===== ROC 曲線圖 =====\n",
        "plt.figure()\n",
        "plt.plot(fpr, tpr, label=f\"AUC = {auc:.4f}\")\n",
        "plt.xlabel(\"False Positive Rate\")\n",
        "plt.ylabel(\"True Positive Rate\")\n",
        "plt.title(\"ROC Curve\")\n",
        "plt.legend()\n",
        "plt.grid()\n",
        "plt.show()\n",
        "\n",
        "# ===== 最終分類表現 =====\n",
        "preds = np.array(y_score) > best_threshold\n",
        "accuracy = (preds == np.array(y_true)).mean()\n",
        "print(f\"整體分類準確率: {accuracy:.4f}\")\n",
        "\n",
        "normal_acc = (np.array(preds[:len(normal_errors)]) == 0).mean()\n",
        "anomaly_acc = (np.array(preds[len(normal_errors):]) == 1).mean()\n",
        "\n",
        "print(f\"正常樣本準確率: {normal_acc:.4f}\")\n",
        "print(f\"異常樣本準確率: {anomaly_acc:.4f}\")\n"
      ],
      "metadata": {
        "colab": {
          "base_uri": "https://localhost:8080/",
          "height": 700
        },
        "id": "9xlOIdFQ5h-t",
        "outputId": "d04edc51-12be-4718-fd7f-435954bdf531"
      },
      "execution_count": 90,
      "outputs": [
        {
          "output_type": "stream",
          "name": "stderr",
          "text": [
            "100%|██████████| 26/26 [00:00<00:00, 32.79it/s]\n",
            "100%|██████████| 141/141 [00:05<00:00, 27.28it/s]\n",
            "Using cache found in /root/.cache/torch/hub/pytorch_vision_main\n",
            "/usr/local/lib/python3.11/dist-packages/torchvision/models/_utils.py:208: UserWarning: The parameter 'pretrained' is deprecated since 0.13 and may be removed in the future, please use 'weights' instead.\n",
            "  warnings.warn(\n",
            "/usr/local/lib/python3.11/dist-packages/torchvision/models/_utils.py:223: UserWarning: Arguments other than a weight enum or `None` for 'weights' are deprecated since 0.13 and may be removed in the future. The current behavior is equivalent to passing `weights=ResNet50_Weights.IMAGENET1K_V1`. You can also use `weights=ResNet50_Weights.DEFAULT` to get the most up-to-date weights.\n",
            "  warnings.warn(msg)\n"
          ]
        },
        {
          "output_type": "stream",
          "name": "stdout",
          "text": [
            "AUC: 0.7147\n",
            "Best threshold by ROC = 0.0029\n"
          ]
        },
        {
          "output_type": "display_data",
          "data": {
            "text/plain": [
              "<Figure size 640x480 with 1 Axes>"
            ],
            "image/png": "[encoded data removed]"
          },
          "metadata": {}
        },
        {
          "output_type": "stream",
          "name": "stdout",
          "text": [
            "整體分類準確率: 0.8323\n",
            "正常樣本準確率: 0.4615\n",
            "異常樣本準確率: 0.9007\n"
          ]
        }
      ]
    }
  ],
  "metadata": {
    "accelerator": "GPU",
    "colab": {
      "gpuType": "T4",
      "provenance": []
    },
    "kernelspec": {
      "display_name": "Python 3",
      "name": "python3"
    },
    "language_info": {
      "codemirror_mode": {
        "name": "ipython",
        "version": 3
      },
      "file_extension": ".py",
      "mimetype": "text/x-python",
      "name": "python",
      "nbconvert_exporter": "python",
      "pygments_lexer": "ipython3",
      "version": "3.8.13"
    }
  },
  "nbformat": 4,
  "nbformat_minor": 0
}